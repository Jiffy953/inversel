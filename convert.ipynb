{
 "cells": [
  {
   "cell_type": "code",
   "execution_count": null,
   "metadata": {},
   "outputs": [],
   "source": [
    "def convert_emoji_feedback_to_string(feedback):\n",
    "    # Define the mappings for the emojis to letters\n",
    "    emoji_to_letter = {\n",
    "        '⬜': 'R',\n",
    "        '🟩': 'G',\n",
    "        '🟨': 'Y'\n",
    "    }\n",
    "    \n",
    "    # Convert the feedback using the mappings\n",
    "    converted_feedback = ''.join([emoji_to_letter[emoji] for emoji in feedback])\n",
    "    \n",
    "    return converted_feedback\n",
    "\n",
    "# Example usage:\n",
    "feedback = \"⬜⬜🟩🟨⬜⬜🟩🟩🟩⬜⬜🟩🟩🟩⬜⬜🟩🟩🟩⬜🟩🟩🟩🟩🟩\"\n",
    "converted_string = convert_emoji_feedback_to_string(feedback)\n",
    "print(converted_string)\n"
   ]
  }
 ],
 "metadata": {
  "language_info": {
   "name": "python"
  },
  "orig_nbformat": 4
 },
 "nbformat": 4,
 "nbformat_minor": 2
}
