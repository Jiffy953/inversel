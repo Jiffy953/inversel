{
 "cells": [
  {
   "cell_type": "code",
   "execution_count": 1,
   "metadata": {},
   "outputs": [
    {
     "name": "stdout",
     "output_type": "stream",
     "text": [
      "RRGYRRGGGRRGGGRRGGGRGGGGG\n"
     ]
    }
   ],
   "source": [
    "def convert_emoji_feedback_to_string(feedback):\n",
    "    # Define the mappings for the emojis to letters\n",
    "    emoji_to_letter = {\n",
    "        '⬜': 'R',\n",
    "        '🟩': 'G',\n",
    "        '🟨': 'Y'\n",
    "    }\n",
    "    \n",
    "    # Convert the feedback using the mappings\n",
    "    converted_feedback = ''.join([emoji_to_letter[emoji] for emoji in feedback])\n",
    "    \n",
    "    return converted_feedback\n",
    "\n",
    "# Example usage:\n",
    "feedback = \"⬜⬜🟩🟨⬜⬜🟩🟩🟩⬜⬜🟩🟩🟩⬜⬜🟩🟩🟩⬜🟩🟩🟩🟩🟩\"\n",
    "converted_string = convert_emoji_feedback_to_string(feedback)\n",
    "print(converted_string)\n"
   ]
  }
 ],
 "metadata": {
  "kernelspec": {
   "display_name": "Python 3",
   "language": "python",
   "name": "python3"
  },
  "language_info": {
   "codemirror_mode": {
    "name": "ipython",
    "version": 3
   },
   "file_extension": ".py",
   "mimetype": "text/x-python",
   "name": "python",
   "nbconvert_exporter": "python",
   "pygments_lexer": "ipython3",
   "version": "3.11.4"
  },
  "orig_nbformat": 4
 },
 "nbformat": 4,
 "nbformat_minor": 2
}
